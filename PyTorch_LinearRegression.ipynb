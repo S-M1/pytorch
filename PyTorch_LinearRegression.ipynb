{
 "cells": [
  {
   "cell_type": "markdown",
   "id": "round-shoulder",
   "metadata": {},
   "source": [
    "# Linear Regression"
   ]
  },
  {
   "cell_type": "code",
   "execution_count": 1,
   "id": "initial-organization",
   "metadata": {},
   "outputs": [],
   "source": [
    "import numpy as np\n",
    "import torch"
   ]
  },
  {
   "cell_type": "markdown",
   "id": "photographic-international",
   "metadata": {},
   "source": [
    "## Training Data\n",
    "The training data can be represented using 2 matrices: inputs and targets, each with one row per observation, and one column per variable."
   ]
  },
  {
   "cell_type": "code",
   "execution_count": 36,
   "id": "attended-dragon",
   "metadata": {},
   "outputs": [],
   "source": [
    "# Input (temp, rainfall, humidity)\n",
    "inputs = np.array([\n",
    "    [73,67,43],\n",
    "    [91,88,64],\n",
    "    [87,134,58],\n",
    "    [102,43,37],\n",
    "    [69,96,70]],dtype = 'float32'\n",
    ")"
   ]
  },
  {
   "cell_type": "code",
   "execution_count": 3,
   "id": "liberal-jacob",
   "metadata": {},
   "outputs": [],
   "source": [
    "# Targets (apples,oranges)\n",
    "targets = np.array([\n",
    "    [56,70],\n",
    "    [81,101],\n",
    "    [119,133],\n",
    "    [22,37],\n",
    "    [103,119]\n",
    "],dtype = 'float32'\n",
    ")"
   ]
  },
  {
   "cell_type": "markdown",
   "id": "desirable-disaster",
   "metadata": {},
   "source": [
    "We've seperated the input and target variables, because we'll operate on them seperately. Also, we've created numpy arrays, because this is typically how you would work with training data: read some CSV files as numpy arrays, do some processing, and then convert them to PyTorch tensors as follows:"
   ]
  },
  {
   "cell_type": "markdown",
   "id": "moral-contract",
   "metadata": {},
   "source": [
    "IN Model:\n",
    "    yield_apple = w11*temp + w12*rainfall + w13*humidity +b1\n",
    "    yield_orange = w21*temp + w12*rainfall + w23*humidity + b2"
   ]
  },
  {
   "cell_type": "markdown",
   "id": "valued-sterling",
   "metadata": {},
   "source": [
    "As we need to figure out the values of the weights we start with random values then calculate the weights"
   ]
  },
  {
   "cell_type": "code",
   "execution_count": 4,
   "id": "disturbed-bristol",
   "metadata": {},
   "outputs": [
    {
     "name": "stdout",
     "output_type": "stream",
     "text": [
      "tensor([[ 73.,  67.,  43.],\n",
      "        [ 91.,  88.,  64.],\n",
      "        [ 87., 134.,  58.],\n",
      "        [102.,  43.,  37.],\n",
      "        [ 69.,  96.,  70.]])\n",
      "tensor([[ 56.,  70.],\n",
      "        [ 81., 101.],\n",
      "        [119., 133.],\n",
      "        [ 22.,  37.],\n",
      "        [103., 119.]])\n"
     ]
    }
   ],
   "source": [
    "# Convert inputs and targets to tensors\n",
    "inputs = torch.from_numpy(inputs)\n",
    "targets = torch.from_numpy(targets)\n",
    "print(inputs)\n",
    "print(targets)"
   ]
  },
  {
   "cell_type": "markdown",
   "id": "covered-fight",
   "metadata": {},
   "source": [
    "## Linear regerssion model from scratch\n",
    "The weights and biases(w11,w12,...w23, b1 & b2) can also be represented as matrices, initialized as random values. The first row of w and first element of b are used to predict the first target variable i.e. yield of apples, and similarly the second for oranges."
   ]
  },
  {
   "cell_type": "code",
   "execution_count": 5,
   "id": "capital-production",
   "metadata": {},
   "outputs": [
    {
     "name": "stdout",
     "output_type": "stream",
     "text": [
      "tensor([[-0.6645,  0.1052, -0.3417],\n",
      "        [ 0.6145, -0.4639, -0.1520]], requires_grad=True)\n",
      "tensor([ 0.5957, -0.0583], requires_grad=True)\n"
     ]
    }
   ],
   "source": [
    "# Weights and biases\n",
    "w = torch.randn(2,3, requires_grad=True)\n",
    "b = torch.randn(2, requires_grad=True)\n",
    "print(w)\n",
    "print(b)\n",
    "\n",
    "# Note: The randn function uses gaussian distribution to get the values"
   ]
  },
  {
   "cell_type": "markdown",
   "id": "unexpected-judge",
   "metadata": {},
   "source": [
    "torch.randn creates a tensor with the given shape, with elements picked randomly from a normal distribution with mean 0 and standard deviatrion 1.\n",
    "\n",
    "Our model is simply a functiom that performs a matrix multiplication of the inputs and the weights [wtransposed] and adds the bias [b] (replicated for each observation).\n",
    "X * W^T + b\n",
    "\n",
    "We can define the model as follows:"
   ]
  },
  {
   "cell_type": "code",
   "execution_count": 6,
   "id": "correct-smooth",
   "metadata": {},
   "outputs": [],
   "source": [
    "def model(x):\n",
    "    return x @ w.t() + b  # @ represents matrix multiplication in pytorch"
   ]
  },
  {
   "cell_type": "markdown",
   "id": "commercial-revelation",
   "metadata": {},
   "source": [
    ".t method returns the transpose of a tensor.\n",
    "\n",
    "The matrix obtained by passing the input data into the model is a set of predictions for the target variables."
   ]
  },
  {
   "cell_type": "code",
   "execution_count": 7,
   "id": "annoying-easter",
   "metadata": {},
   "outputs": [
    {
     "name": "stdout",
     "output_type": "stream",
     "text": [
      "tensor([[-55.5584,   7.1792],\n",
      "        [-72.4861,   5.3057],\n",
      "        [-62.9381, -17.5811],\n",
      "        [-75.3045,  37.0443],\n",
      "        [-59.0750, -12.8353]], grad_fn=<AddBackward0>)\n"
     ]
    }
   ],
   "source": [
    "# Generate predictions\n",
    "preds = model(inputs)\n",
    "print(preds)"
   ]
  },
  {
   "cell_type": "markdown",
   "id": "square-processor",
   "metadata": {},
   "source": [
    "Now comparing the predictions of our model with teh actual targets."
   ]
  },
  {
   "cell_type": "code",
   "execution_count": 8,
   "id": "bacterial-nation",
   "metadata": {},
   "outputs": [
    {
     "name": "stdout",
     "output_type": "stream",
     "text": [
      "tensor([[ 56.,  70.],\n",
      "        [ 81., 101.],\n",
      "        [119., 133.],\n",
      "        [ 22.,  37.],\n",
      "        [103., 119.]])\n"
     ]
    }
   ],
   "source": [
    "# Compare with targets\n",
    "print(targets)"
   ]
  },
  {
   "cell_type": "markdown",
   "id": "chubby-validity",
   "metadata": {},
   "source": [
    "We can see that there's a huge difference between the predictions of our model, and the actual values of the target variables. Obviously, this is because we've initialized our model with random weights and biases, and we can't expect it to just work.\n",
    "\n",
    "But as we have a model now we can start improving it to match the targets.\n",
    "\n",
    "The weights a 2 by 3 matrix because we have 3 weights (w11,w12,w13)."
   ]
  },
  {
   "cell_type": "markdown",
   "id": "powered-medline",
   "metadata": {},
   "source": [
    "## Loss function\n",
    "Before we improve our model, we need a way to evaluate how well our model is performing. We can compare the model's predictions with the actual targets, using the following method:\n",
    "    * Calculate the difference between the two matrices(preds and targets).\n",
    "    * Square all elements of the difference matrix to remove negative values.\n",
    "    * Calculate the average of the elements in the resulting matrix.\n",
    "\n",
    "The result is a single number known as mean square error(MSE).\n"
   ]
  },
  {
   "cell_type": "code",
   "execution_count": 12,
   "id": "primary-rescue",
   "metadata": {},
   "outputs": [
    {
     "data": {
      "text/plain": [
       "tensor(15800.0264, grad_fn=<DivBackward0>)"
      ]
     },
     "execution_count": 12,
     "metadata": {},
     "output_type": "execute_result"
    }
   ],
   "source": [
    "# MSE\n",
    "diff = preds - targets\n",
    "diff_sqr = diff *diff\n",
    "torch.sum(diff_sqr)/ diff.numel()"
   ]
  },
  {
   "cell_type": "code",
   "execution_count": 15,
   "id": "initial-blanket",
   "metadata": {},
   "outputs": [],
   "source": [
    "# MSE loss\n",
    "def mse(t1,t2):\n",
    "    diff = t1 - t2\n",
    "    return torch.sum(diff * diff) / diff.numel()"
   ]
  },
  {
   "cell_type": "markdown",
   "id": "initial-inspection",
   "metadata": {},
   "source": [
    "[torch.sum] returns the sum of all the elements in a tensor, and the .numel method returns the number of elements in  a tensor. Let's compute the mean squared error for the current predictions of our model."
   ]
  },
  {
   "cell_type": "code",
   "execution_count": 16,
   "id": "square-flower",
   "metadata": {},
   "outputs": [
    {
     "name": "stdout",
     "output_type": "stream",
     "text": [
      "tensor(15800.0264, grad_fn=<DivBackward0>)\n"
     ]
    }
   ],
   "source": [
    "# Compute loss (i.e compute M.S.E for the current set of predictions)\n",
    "loss = mse(preds, targets)\n",
    "print(loss)"
   ]
  },
  {
   "cell_type": "markdown",
   "id": "committed-benefit",
   "metadata": {},
   "source": [
    "Here's how we can interpret the result: On average, each element in the prediction differs from the actual target by about 138 (square root of the loss 19044). And that's pretty bad, considering the numbers we are trying to predict are themselves in the range 50-200. Also, the result is called the loss, because it indicates how bad the model is ate predicting the target variables. Lower the loss, better the model.\n",
    "\n",
    "This tells us how much the model is lossing and lower the loss the better the model."
   ]
  },
  {
   "cell_type": "markdown",
   "id": "stretch-palmer",
   "metadata": {},
   "source": [
    "## Compute gradients\n",
    "With PyTorch, we can automatically compute the gradient or derivative of the loss w.r.t. to the weights and biases, because they have requires_grad set to True. (see above)"
   ]
  },
  {
   "cell_type": "code",
   "execution_count": 17,
   "id": "spread-accreditation",
   "metadata": {},
   "outputs": [],
   "source": [
    "# Compute gradients\n",
    "loss.backward()"
   ]
  },
  {
   "cell_type": "markdown",
   "id": "atlantic-boring",
   "metadata": {},
   "source": [
    "The gradients are stored in the .grad property of the respective tensors. Note that the derivative of loss w.r.t. the weights matrix is itself a matrix, with the same dimensions."
   ]
  },
  {
   "cell_type": "code",
   "execution_count": 18,
   "id": "technical-michael",
   "metadata": {},
   "outputs": [
    {
     "name": "stdout",
     "output_type": "stream",
     "text": [
      "tensor([[-0.6645,  0.1052, -0.3417],\n",
      "        [ 0.6145, -0.4639, -0.1520]], requires_grad=True)\n",
      "tensor([[-11809.5693, -13020.8369,  -8023.6094],\n",
      "        [ -7097.3550,  -9092.4492,  -5357.2529]])\n"
     ]
    }
   ],
   "source": [
    "# Gradients for weights\n",
    "print(w)\n",
    "print(w.grad) # This is the derivative i.e the loss w.r.t a particular element."
   ]
  },
  {
   "cell_type": "code",
   "execution_count": 19,
   "id": "spectacular-factory",
   "metadata": {},
   "outputs": [
    {
     "name": "stdout",
     "output_type": "stream",
     "text": [
      "tensor([ 0.5957, -0.0583], requires_grad=True)\n",
      "tensor([-141.2724,  -88.1774])\n"
     ]
    }
   ],
   "source": [
    "# Similarly for biases\n",
    "print(b)\n",
    "print(b.grad)"
   ]
  },
  {
   "cell_type": "markdown",
   "id": "signal-space",
   "metadata": {},
   "source": [
    "The loss is a quadratic function of our weights and biases, and our objective is to find the set of weights where the loss is the lowest. If we plot a graph of the loss w.r.t any individual weight or bias element, it will look like the figure shown below. A key insight from calculus is that the gradient indicates the rate of change of the loss, or the slope of the loss function w.r.t. the weights and biases.\n",
    "\n",
    "If a gradient element is positive:\n",
    "    * Increasing the element's value slightly will increase the loss.\n",
    "    * Decreasing the element's value slightly will decrease the loss.\n",
    "    \n",
    "Eg: Plots w.r.t to one value eg(w11)\n",
    "\n",
    "\n",
    "Note:\n",
    " The increase or decrease in the loss by changing a weight element is proportional to the value of the gradient of the loss w.r.t. that element. This forms the basis for the optimization algorithm that we'll use to improve the model.\n",
    " \n",
    "Before we continue, we need to reset the gradients to zero by calling .zero() method. We need to do this, because PyTorch accumulates, gradients i.e. the next time we call .backward on the loss, the new gradient values will get added to the existing gradient values, which may lead to unexpected results.\n",
    "So, everytime we are done with any gradient related work we need to reset."
   ]
  },
  {
   "cell_type": "code",
   "execution_count": 20,
   "id": "standard-durham",
   "metadata": {},
   "outputs": [
    {
     "name": "stdout",
     "output_type": "stream",
     "text": [
      "tensor([[0., 0., 0.],\n",
      "        [0., 0., 0.]])\n",
      "tensor([0., 0.])\n"
     ]
    }
   ],
   "source": [
    "w.grad.zero_()\n",
    "b.grad.zero_()\n",
    "print(w.grad)\n",
    "print(b.grad)"
   ]
  },
  {
   "cell_type": "markdown",
   "id": "exempt-breakfast",
   "metadata": {},
   "source": [
    "### Adjust weights and biases using gradient descent\n",
    "We'll reduce the loss and improve our model using the gradient descent optimization algorithm, which has the following steps:\n",
    "    1. Generate predictions\n",
    "    2. Calculate the loss\n",
    "    3. Compute gradients w.r.t the weights and biases\n",
    "    4. Adjust the weights by subtracting a small quantity\n",
    "    5. Reset the gradients to zero\n",
    "    \n",
    "Let's implement the above step by step."
   ]
  },
  {
   "cell_type": "code",
   "execution_count": 21,
   "id": "aboriginal-washer",
   "metadata": {},
   "outputs": [
    {
     "name": "stdout",
     "output_type": "stream",
     "text": [
      "tensor([[-55.5584,   7.1792],\n",
      "        [-72.4861,   5.3057],\n",
      "        [-62.9381, -17.5811],\n",
      "        [-75.3045,  37.0443],\n",
      "        [-59.0750, -12.8353]], grad_fn=<AddBackward0>)\n"
     ]
    }
   ],
   "source": [
    "# Generate predictions (Step 1)\n",
    "preds = model(inputs)\n",
    "print(preds)"
   ]
  },
  {
   "cell_type": "markdown",
   "id": "received-outreach",
   "metadata": {},
   "source": [
    "NOTE:\n",
    "    The predictions are same as before, since we havenot made any changes to our model. The same holds true for the loss and gradients."
   ]
  },
  {
   "cell_type": "code",
   "execution_count": 22,
   "id": "sexual-cement",
   "metadata": {},
   "outputs": [
    {
     "name": "stdout",
     "output_type": "stream",
     "text": [
      "tensor(15800.0264, grad_fn=<DivBackward0>)\n"
     ]
    }
   ],
   "source": [
    "# Calculate the loss (Step 2)\n",
    "loss = mse(preds, targets)\n",
    "print(loss)"
   ]
  },
  {
   "cell_type": "code",
   "execution_count": 23,
   "id": "empty-server",
   "metadata": {},
   "outputs": [
    {
     "name": "stdout",
     "output_type": "stream",
     "text": [
      "tensor([[-11809.5693, -13020.8369,  -8023.6094],\n",
      "        [ -7097.3550,  -9092.4492,  -5357.2529]])\n",
      "tensor([-141.2724,  -88.1774])\n"
     ]
    }
   ],
   "source": [
    "# Compute gradients (Step 3)\n",
    "loss.backward()\n",
    "print(w.grad)\n",
    "print(b.grad)"
   ]
  },
  {
   "cell_type": "markdown",
   "id": "lonely-interface",
   "metadata": {},
   "source": [
    "Finally, we update the weights and biases using the gradients computed above."
   ]
  },
  {
   "cell_type": "code",
   "execution_count": 25,
   "id": "varied-government",
   "metadata": {},
   "outputs": [],
   "source": [
    "# Adjust weights and reset gradients\n",
    "with torch.no_grad():\n",
    "    w-= w.grad * 1e-5\n",
    "    b-= b.grad * 1e-5\n",
    "    w.grad.zero_()\n",
    "    b.grad.zero_()"
   ]
  },
  {
   "cell_type": "markdown",
   "id": "yellow-jerusalem",
   "metadata": {},
   "source": [
    "Note:\n",
    "    * We use torch.no_grad to indicate to PyTorch that we shouldn't track, calculate or modify gradients while upadting the weights and biases.\n",
    "    * We multiply the gradients with really small number (10^5 in this case), to ensure that we don't modify the weights by a really large amount, since we only want to take a small step in the downhill direction of the gradient. This number is called the learning rate of the algorirthm. \n",
    "    * After we have updated the weights, we reset the gradients back to zero, to avoid affecting any future computations. "
   ]
  },
  {
   "cell_type": "code",
   "execution_count": 26,
   "id": "included-question",
   "metadata": {},
   "outputs": [
    {
     "name": "stdout",
     "output_type": "stream",
     "text": [
      "tensor([[-0.5464,  0.2354, -0.2615],\n",
      "        [ 0.6854, -0.3730, -0.0984]], requires_grad=True)\n",
      "tensor([ 0.5985, -0.0566], requires_grad=True)\n"
     ]
    }
   ],
   "source": [
    "# The new weights and biases\n",
    "print(w)\n",
    "print(b)"
   ]
  },
  {
   "cell_type": "code",
   "execution_count": 27,
   "id": "handmade-investigator",
   "metadata": {},
   "outputs": [
    {
     "name": "stdout",
     "output_type": "stream",
     "text": [
      "tensor(10926.4922, grad_fn=<DivBackward0>)\n"
     ]
    }
   ],
   "source": [
    "# Now again checking if we get a lower loss\n",
    "\n",
    "preds = model(inputs)\n",
    "loss = mse(preds, targets)\n",
    "print(loss)"
   ]
  },
  {
   "cell_type": "markdown",
   "id": "lined-replacement",
   "metadata": {},
   "source": [
    "We can see that we have already achieved a significant reduction in the loss, simply by adjusting the weights and biases slightly using gradient descent."
   ]
  },
  {
   "cell_type": "markdown",
   "id": "false-clothing",
   "metadata": {},
   "source": [
    "### Train for multiple epocs\n",
    "To reduce the loss further, we can repeat the process of adjusting the weights and biases using the gradients multiple times. Each iteration is called an epoch. Let's train the model for 100 epochs."
   ]
  },
  {
   "cell_type": "code",
   "execution_count": 31,
   "id": "whole-reproduction",
   "metadata": {},
   "outputs": [],
   "source": [
    "# Train for 500 epochs\n",
    "for i in range(500):\n",
    "    preds = model(inputs)\n",
    "    loss = mse(preds, targets)\n",
    "    loss.backward()\n",
    "    with torch.no_grad():\n",
    "        w -= w.grad * 1e-5\n",
    "        b -= b.grad * 1e-5\n",
    "        w.grad.zero_()\n",
    "        b.grad.zero_()"
   ]
  },
  {
   "cell_type": "code",
   "execution_count": 32,
   "id": "pointed-accent",
   "metadata": {},
   "outputs": [
    {
     "name": "stdout",
     "output_type": "stream",
     "text": [
      "tensor(14.3054, grad_fn=<DivBackward0>)\n"
     ]
    }
   ],
   "source": [
    "# Once again verifying that the loss is now lower:\n",
    "\n",
    "# Calculate loss\n",
    "preds = model(inputs)\n",
    "loss = mse(preds,targets)\n",
    "\n",
    "print(loss)  # i.e sqrt(14.3054). So we are off by just 14"
   ]
  },
  {
   "cell_type": "markdown",
   "id": "ultimate-remove",
   "metadata": {},
   "source": [
    "We can see that the loss is now much lower than what we started with. \n",
    "Now, Let's look at the models predictions and compare them with the targets."
   ]
  },
  {
   "cell_type": "code",
   "execution_count": 33,
   "id": "colored-delight",
   "metadata": {},
   "outputs": [
    {
     "data": {
      "text/plain": [
       "tensor([[ 57.6122,  70.9059],\n",
       "        [ 79.8234,  98.1092],\n",
       "        [123.3970, 137.8231],\n",
       "        [ 22.8227,  40.2439],\n",
       "        [ 96.8768, 112.7868]], grad_fn=<AddBackward0>)"
      ]
     },
     "execution_count": 33,
     "metadata": {},
     "output_type": "execute_result"
    }
   ],
   "source": [
    "# Predictions\n",
    "preds"
   ]
  },
  {
   "cell_type": "code",
   "execution_count": 34,
   "id": "social-boundary",
   "metadata": {},
   "outputs": [
    {
     "data": {
      "text/plain": [
       "tensor([[ 56.,  70.],\n",
       "        [ 81., 101.],\n",
       "        [119., 133.],\n",
       "        [ 22.,  37.],\n",
       "        [103., 119.]])"
      ]
     },
     "execution_count": 34,
     "metadata": {},
     "output_type": "execute_result"
    }
   ],
   "source": [
    "# Targets\n",
    "targets"
   ]
  },
  {
   "cell_type": "markdown",
   "id": "suburban-contribution",
   "metadata": {},
   "source": [
    "We can see that the predictions are quite close to the target variables, and we can get even better results by training for a few more epochs."
   ]
  },
  {
   "cell_type": "code",
   "execution_count": null,
   "id": "fleet-clark",
   "metadata": {},
   "outputs": [],
   "source": []
  },
  {
   "cell_type": "markdown",
   "id": "sustained-reporter",
   "metadata": {},
   "source": [
    "## Linear regression using PyTorch built-ins\n",
    "The model and training process above were implemented using basic matrix operations. But sice this is such a common pattern, PyTorch has several built-in functions and classes to make it easy to create and train models.\n",
    "\n",
    "We begin by importing torch.nn package from PyTorch, which contains utility classes for building neural networks."
   ]
  },
  {
   "cell_type": "code",
   "execution_count": 35,
   "id": "photographic-folder",
   "metadata": {},
   "outputs": [],
   "source": [
    "import torch.nn as nn"
   ]
  },
  {
   "cell_type": "markdown",
   "id": "headed-powder",
   "metadata": {},
   "source": [
    "As before, we represent the inputs and targets and matrices."
   ]
  },
  {
   "cell_type": "code",
   "execution_count": 37,
   "id": "handed-collection",
   "metadata": {},
   "outputs": [],
   "source": [
    "# Input (temp, rainfall, humidity)\n",
    "inputs = np.array([\n",
    "    [73,67,43],[91,88,64],[87,134,58],\n",
    "    [102,43,37],[69,96,70],[73,67,43],\n",
    "    [91,88,64],[87,134,58],[102,43,37],\n",
    "    [69,96,70],[73,67,43],[91,88,64],\n",
    "    [87,134,58],[102,43,37],[69,96,70]\n",
    "],dtype = 'float32'\n",
    ")\n",
    "\n",
    "# Targets (apples,oranges)\n",
    "targets = np.array([\n",
    "    [56,70],[81,101],[119,133],\n",
    "    [22,37],[103,119],[56,70],\n",
    "    [81,101],[119,133],[22,37],\n",
    "    [103,119],[56,70],[81,101],\n",
    "    [119,133],[22,37],[103,119]\n",
    "],dtype = 'float32'\n",
    ")\n",
    "\n",
    "inputs = torch.from_numpy(inputs)\n",
    "targets = torch.from_numpy(targets)"
   ]
  },
  {
   "cell_type": "markdown",
   "id": "thick-class",
   "metadata": {},
   "source": [
    "We are using 15 training examples this time, to illustrate how to work with large datasets in small batches. (This is done because sometimes we may have millions of data)."
   ]
  },
  {
   "cell_type": "markdown",
   "id": "genetic-mauritius",
   "metadata": {},
   "source": [
    "### Dataset and DataLoader\n",
    "We'll create a TensorDataset, which allows access to rows from inputs and targets as tuples, and provides standard APIs for working with many different types of datasets in PyTorch.\n",
    "\n",
    "Note: \n",
    "    These utilities are used to easily work in batches.\n",
    "    "
   ]
  },
  {
   "cell_type": "code",
   "execution_count": 38,
   "id": "eight-disorder",
   "metadata": {},
   "outputs": [],
   "source": [
    "from torch.utils.data import TensorDataset"
   ]
  },
  {
   "cell_type": "code",
   "execution_count": 39,
   "id": "standard-stake",
   "metadata": {},
   "outputs": [
    {
     "data": {
      "text/plain": [
       "(tensor([[ 73.,  67.,  43.],\n",
       "         [ 91.,  88.,  64.],\n",
       "         [ 87., 134.,  58.]]),\n",
       " tensor([[ 56.,  70.],\n",
       "         [ 81., 101.],\n",
       "         [119., 133.]]))"
      ]
     },
     "execution_count": 39,
     "metadata": {},
     "output_type": "execute_result"
    }
   ],
   "source": [
    "# Define dataset\n",
    "train_ds = TensorDataset(inputs, targets)\n",
    "train_ds[0:3] \n",
    "\n",
    "# The above code picks the first 3 rows of the input and output data\n",
    "\n",
    "# train_ds[[1,3,5,7]] ,this allows us to acces slices of the dataset"
   ]
  },
  {
   "cell_type": "markdown",
   "id": "nearby-sweet",
   "metadata": {},
   "source": [
    "The TensorDataset allows us to access a small section of the training data using the array indexing notation( [0:3] in the above code). It returns a tuple (or pair), in which the first element contains the input variables for the selected rows, and the second contains the targets.\n",
    "\n",
    "We'll also create a DataLoader, which can split the data into batches of a predefined size while training. It also provides other utilities like shuffling and random sampling of the data."
   ]
  },
  {
   "cell_type": "code",
   "execution_count": 41,
   "id": "ancient-operations",
   "metadata": {},
   "outputs": [],
   "source": [
    "from torch.utils.data import DataLoader"
   ]
  },
  {
   "cell_type": "code",
   "execution_count": 42,
   "id": "collective-salvation",
   "metadata": {},
   "outputs": [],
   "source": [
    "# Define data loader\n",
    "batch_size = 5\n",
    "train_dl = DataLoader(train_ds, batch_size, shuffle = True)"
   ]
  },
  {
   "cell_type": "markdown",
   "id": "extended-haiti",
   "metadata": {},
   "source": [
    "The data loader is typically used in a for-in loop. Let's look at an example."
   ]
  },
  {
   "cell_type": "code",
   "execution_count": 43,
   "id": "subject-blair",
   "metadata": {},
   "outputs": [
    {
     "name": "stdout",
     "output_type": "stream",
     "text": [
      "tensor([[ 73.,  67.,  43.],\n",
      "        [102.,  43.,  37.],\n",
      "        [ 91.,  88.,  64.],\n",
      "        [ 87., 134.,  58.],\n",
      "        [ 87., 134.,  58.]])\n",
      "tensor([[ 56.,  70.],\n",
      "        [ 22.,  37.],\n",
      "        [ 81., 101.],\n",
      "        [119., 133.],\n",
      "        [119., 133.]])\n"
     ]
    }
   ],
   "source": [
    "for xb, yb in train_dl:\n",
    "    print(xb)\n",
    "    print(yb)\n",
    "    break\n",
    "\n",
    "# for xb, yb in train_dl:\n",
    "#     print('batch:')\n",
    "#     print(xb)\n",
    "#     print(yb)\n",
    "\n",
    "    \n",
    "# This creates 5 rows of inputs and 5 rows or outputs after shuffling"
   ]
  },
  {
   "cell_type": "markdown",
   "id": "bound-quarter",
   "metadata": {},
   "source": [
    "In each iteration, the data loader returns one batch of data, with the given batch size. If shuffle is set True, it shuffles the training data before creating batches. Shuffling helps randomize the input to the optimization algorithm, which can lead to faster reduction in the loss."
   ]
  },
  {
   "cell_type": "code",
   "execution_count": null,
   "id": "hourly-survey",
   "metadata": {},
   "outputs": [],
   "source": []
  },
  {
   "cell_type": "markdown",
   "id": "organic-produce",
   "metadata": {},
   "source": [
    "## nn.Linear\n",
    "Instead of initializing the weights and biases manually, we can define the model using the nn.Linear class from PyTorch, which does it automatically."
   ]
  },
  {
   "cell_type": "code",
   "execution_count": 44,
   "id": "objective-collar",
   "metadata": {},
   "outputs": [
    {
     "name": "stdout",
     "output_type": "stream",
     "text": [
      "Parameter containing:\n",
      "tensor([[ 0.5105, -0.4760, -0.1162],\n",
      "        [ 0.4568, -0.0160, -0.0865]], requires_grad=True)\n",
      "Parameter containing:\n",
      "tensor([-0.4913, -0.2200], requires_grad=True)\n"
     ]
    }
   ],
   "source": [
    "# Define model\n",
    "model = nn.Linear(3,2)  # Here we specify the number of inputs and outputs\n",
    "print(model.weight)\n",
    "print(model.bias)"
   ]
  },
  {
   "cell_type": "markdown",
   "id": "published-lambda",
   "metadata": {},
   "source": [
    "PyTorch models also have a helpful .parameters method, which returns a list containing all the weights and bias matrices present in the model. For our linear regression model, we have one weight matrix and one bias matrix."
   ]
  },
  {
   "cell_type": "code",
   "execution_count": 46,
   "id": "sunset-puzzle",
   "metadata": {},
   "outputs": [
    {
     "data": {
      "text/plain": [
       "[Parameter containing:\n",
       " tensor([[ 0.5105, -0.4760, -0.1162],\n",
       "         [ 0.4568, -0.0160, -0.0865]], requires_grad=True),\n",
       " Parameter containing:\n",
       " tensor([-0.4913, -0.2200], requires_grad=True)]"
      ]
     },
     "execution_count": 46,
     "metadata": {},
     "output_type": "execute_result"
    }
   ],
   "source": [
    "# Parameters\n",
    "list(model.parameters())"
   ]
  },
  {
   "cell_type": "markdown",
   "id": "rolled-characterization",
   "metadata": {},
   "source": [
    "We can use the model to generate predictions in the exact same way as before"
   ]
  },
  {
   "cell_type": "code",
   "execution_count": 47,
   "id": "enhanced-walter",
   "metadata": {},
   "outputs": [
    {
     "data": {
      "text/plain": [
       "tensor([[ -0.1090,  28.3356],\n",
       "        [ -3.3553,  34.4059],\n",
       "        [-26.5941,  32.3593],\n",
       "        [ 26.8171,  42.4875],\n",
       "        [-19.0923,  23.7086],\n",
       "        [ -0.1090,  28.3356],\n",
       "        [ -3.3553,  34.4059],\n",
       "        [-26.5941,  32.3593],\n",
       "        [ 26.8171,  42.4875],\n",
       "        [-19.0923,  23.7086],\n",
       "        [ -0.1090,  28.3356],\n",
       "        [ -3.3553,  34.4059],\n",
       "        [-26.5941,  32.3593],\n",
       "        [ 26.8171,  42.4875],\n",
       "        [-19.0923,  23.7086]], grad_fn=<AddmmBackward>)"
      ]
     },
     "execution_count": 47,
     "metadata": {},
     "output_type": "execute_result"
    }
   ],
   "source": [
    "# Generate predictions\n",
    "preds = model(inputs) \n",
    "preds\n",
    "\n",
    "# Note: Earlier it was a model but now it is an object"
   ]
  },
  {
   "cell_type": "markdown",
   "id": "bacterial-accounting",
   "metadata": {},
   "source": [
    "## Loss function\n",
    "Instead of defining a loss function manually, we can use built-in loss function mse_loss."
   ]
  },
  {
   "cell_type": "code",
   "execution_count": 49,
   "id": "ruled-replacement",
   "metadata": {},
   "outputs": [],
   "source": [
    "# Import nn.functional\n",
    "import torch.nn.functional as F"
   ]
  },
  {
   "cell_type": "markdown",
   "id": "addressed-ordering",
   "metadata": {},
   "source": [
    "The nn.functional package contains many useful functions and several other utilities."
   ]
  },
  {
   "cell_type": "code",
   "execution_count": 50,
   "id": "based-material",
   "metadata": {},
   "outputs": [],
   "source": [
    "# Define loss function\n",
    "loss_fn = F.mse_loss"
   ]
  },
  {
   "cell_type": "code",
   "execution_count": 48,
   "id": "purple-single",
   "metadata": {},
   "outputs": [],
   "source": [
    "?nn.Linear # Documentation"
   ]
  },
  {
   "cell_type": "code",
   "execution_count": 51,
   "id": "cathedral-museum",
   "metadata": {},
   "outputs": [
    {
     "name": "stdout",
     "output_type": "stream",
     "text": [
      "tensor(7180.1216, grad_fn=<MseLossBackward>)\n"
     ]
    }
   ],
   "source": [
    "# Computinf the loss for the current predictions of our model\n",
    "\n",
    "loss = loss_fn(model(inputs),targets)\n",
    "print(loss)"
   ]
  },
  {
   "cell_type": "markdown",
   "id": "preliminary-trading",
   "metadata": {},
   "source": [
    "## Optimizer\n",
    "Insead of manually manipulating the model's weights and biases using gradients, we can use the optimizer optim.SGD. SGD stands for stochastic gradient descent. It is called stochastic because samples are selected in bathces(often with random shuffling) instead of as a single group."
   ]
  },
  {
   "cell_type": "code",
   "execution_count": 52,
   "id": "angry-warning",
   "metadata": {},
   "outputs": [],
   "source": [
    "# Define optimizer\n",
    "opt = torch.optim.SGD(model.parameters(), lr=1e-5)"
   ]
  },
  {
   "cell_type": "markdown",
   "id": "double-theta",
   "metadata": {},
   "source": [
    "Note that model.parameters() is passed as an argument to optim.SGD, so that the optimizer knows which matrices should be modified during the update step. Also, we can specify a learning rate which controls the amount by which the parameters are modified(subtracted in this case)."
   ]
  },
  {
   "cell_type": "markdown",
   "id": "sharing-dakota",
   "metadata": {},
   "source": [
    "## Train the model\n",
    "We are now ready to train the model. We'll follow the exact same processto implement gradient descent:\n",
    "    1. Generate predictions\n",
    "    2. Calculate the loss\n",
    "    3. Compute gradients w.r.t the weights and biases\n",
    "    4. Adjust the weights by subtracting a small quantity\n",
    "    5. Reset the gradients to zero\n",
    "   \n",
    "The only change is that we'll work batches of data, instead of processing the entire training data in every iteration. Let's define a utility function fir which trains the model for a given number of epochs"
   ]
  },
  {
   "cell_type": "code",
   "execution_count": 58,
   "id": "appreciated-tanzania",
   "metadata": {},
   "outputs": [],
   "source": [
    "# Utility function to train the model\n",
    "\n",
    "def fit(num_epochs, model, loss_fn, opt):\n",
    "    # Repeat for given number of epochs\n",
    "    for epoch in range(num_epochs):\n",
    "        # Train with batches of data\n",
    "        for xb,yb in train_dl:\n",
    "            # 1. Generate predictions\n",
    "            pred = model(xb)\n",
    "            \n",
    "            # 2. Calculate loss\n",
    "            loss = loss_fn(pred, yb)\n",
    "            \n",
    "            # 3. Compute gradients\n",
    "            loss.backward()\n",
    "            \n",
    "            # 4. Update parameters using gradients\n",
    "            opt.step()\n",
    "            \n",
    "            # 5. Reset the gradients to zero\n",
    "            opt.zero_grad()\n",
    "            \n",
    "        # Print the progress\n",
    "        if(epoch+1) %10 ==0: # Every 10th epoch we get message (i.e every batch)\n",
    "            print('Epoch [{}/{}], Loss:{:.4f}'.format(epoch+1, num_epochs,loss.item()))"
   ]
  },
  {
   "cell_type": "markdown",
   "id": "interesting-beatles",
   "metadata": {},
   "source": [
    "Note:\n",
    "    * We use the data loader defined earlier to get batches of data for every iteration.\n",
    "    * Instead of updating parameters (weights and biases) manually, we use opt.step to perform the update, and opt.zero_grad to reset the gradients to zero.\n",
    "    * We've also added a log statement which prints the loss from the last batch of data for every 10th epoch, to track the progress of training loss.item returns the actual value stores in the loss tensor.\n",
    "   "
   ]
  },
  {
   "cell_type": "code",
   "execution_count": 59,
   "id": "therapeutic-flexibility",
   "metadata": {},
   "outputs": [
    {
     "name": "stdout",
     "output_type": "stream",
     "text": [
      "Epoch [10/100], Loss:745.7094\n",
      "Epoch [20/100], Loss:249.9146\n",
      "Epoch [30/100], Loss:329.1766\n",
      "Epoch [40/100], Loss:194.6701\n",
      "Epoch [50/100], Loss:116.7178\n",
      "Epoch [60/100], Loss:115.0035\n",
      "Epoch [70/100], Loss:98.5894\n",
      "Epoch [80/100], Loss:32.2460\n",
      "Epoch [90/100], Loss:39.9321\n",
      "Epoch [100/100], Loss:41.6164\n"
     ]
    }
   ],
   "source": [
    "# Training model for 100 epochs\n",
    "\n",
    "fit(100,model,loss_fn,opt)"
   ]
  },
  {
   "cell_type": "markdown",
   "id": "sunset-torture",
   "metadata": {},
   "source": [
    "Now generating predictions using our model and verifying that they're close to our targets."
   ]
  },
  {
   "cell_type": "code",
   "execution_count": 60,
   "id": "coral-affiliate",
   "metadata": {},
   "outputs": [
    {
     "data": {
      "text/plain": [
       "tensor([[ 58.7253,  71.6962],\n",
       "        [ 81.1619,  97.6718],\n",
       "        [119.2787, 137.8428],\n",
       "        [ 29.8480,  44.6616],\n",
       "        [ 94.8372, 109.3945],\n",
       "        [ 58.7253,  71.6962],\n",
       "        [ 81.1619,  97.6718],\n",
       "        [119.2787, 137.8428],\n",
       "        [ 29.8480,  44.6616],\n",
       "        [ 94.8372, 109.3945],\n",
       "        [ 58.7253,  71.6962],\n",
       "        [ 81.1619,  97.6718],\n",
       "        [119.2787, 137.8428],\n",
       "        [ 29.8480,  44.6616],\n",
       "        [ 94.8372, 109.3945]], grad_fn=<AddmmBackward>)"
      ]
     },
     "execution_count": 60,
     "metadata": {},
     "output_type": "execute_result"
    }
   ],
   "source": [
    "# Generate predictions\n",
    "preds = model(inputs)\n",
    "preds"
   ]
  },
  {
   "cell_type": "code",
   "execution_count": 61,
   "id": "metallic-population",
   "metadata": {},
   "outputs": [
    {
     "data": {
      "text/plain": [
       "tensor([[ 56.,  70.],\n",
       "        [ 81., 101.],\n",
       "        [119., 133.],\n",
       "        [ 22.,  37.],\n",
       "        [103., 119.],\n",
       "        [ 56.,  70.],\n",
       "        [ 81., 101.],\n",
       "        [119., 133.],\n",
       "        [ 22.,  37.],\n",
       "        [103., 119.],\n",
       "        [ 56.,  70.],\n",
       "        [ 81., 101.],\n",
       "        [119., 133.],\n",
       "        [ 22.,  37.],\n",
       "        [103., 119.]])"
      ]
     },
     "execution_count": 61,
     "metadata": {},
     "output_type": "execute_result"
    }
   ],
   "source": [
    "# Compare with targets\n",
    "targets"
   ]
  }
 ],
 "metadata": {
  "kernelspec": {
   "display_name": "Python 3",
   "language": "python",
   "name": "python3"
  },
  "language_info": {
   "codemirror_mode": {
    "name": "ipython",
    "version": 3
   },
   "file_extension": ".py",
   "mimetype": "text/x-python",
   "name": "python",
   "nbconvert_exporter": "python",
   "pygments_lexer": "ipython3",
   "version": "3.8.5"
  }
 },
 "nbformat": 4,
 "nbformat_minor": 5
}
