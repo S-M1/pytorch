{
 "cells": [
  {
   "cell_type": "markdown",
   "id": "complete-edward",
   "metadata": {},
   "source": [
    "https://www.youtube.com/watch?v=GIsg-ZUy0MY"
   ]
  },
  {
   "cell_type": "code",
   "execution_count": 1,
   "id": "agreed-plasma",
   "metadata": {},
   "outputs": [],
   "source": [
    "import torch"
   ]
  },
  {
   "cell_type": "markdown",
   "id": "prescription-machine",
   "metadata": {},
   "source": [
    "# BASICS"
   ]
  },
  {
   "cell_type": "code",
   "execution_count": 2,
   "id": "direct-playback",
   "metadata": {},
   "outputs": [
    {
     "data": {
      "text/plain": [
       "tensor(4.)"
      ]
     },
     "execution_count": 2,
     "metadata": {},
     "output_type": "execute_result"
    }
   ],
   "source": [
    "# Number\n",
    "t1 = torch.tensor(4.)\n",
    "t1"
   ]
  },
  {
   "cell_type": "code",
   "execution_count": 3,
   "id": "educational-criterion",
   "metadata": {},
   "outputs": [
    {
     "data": {
      "text/plain": [
       "torch.float32"
      ]
     },
     "execution_count": 3,
     "metadata": {},
     "output_type": "execute_result"
    }
   ],
   "source": [
    "t1.dtype "
   ]
  },
  {
   "cell_type": "code",
   "execution_count": 4,
   "id": "knowing-truth",
   "metadata": {},
   "outputs": [
    {
     "data": {
      "text/plain": [
       "tensor([1., 2., 3., 4.])"
      ]
     },
     "execution_count": 4,
     "metadata": {},
     "output_type": "execute_result"
    }
   ],
   "source": [
    "# Vector\n",
    "t2 = torch.tensor([1.,2,3,4])\n",
    "t2\n",
    "\n",
    "# If we provide different datatype then pytorch will convert it to same datatype"
   ]
  },
  {
   "cell_type": "code",
   "execution_count": 6,
   "id": "general-surname",
   "metadata": {},
   "outputs": [
    {
     "data": {
      "text/plain": [
       "tensor([[ 5.,  6.],\n",
       "        [ 7.,  8.],\n",
       "        [ 9., 10.]])"
      ]
     },
     "execution_count": 6,
     "metadata": {},
     "output_type": "execute_result"
    }
   ],
   "source": [
    "# Matrix\n",
    "t3 = torch.tensor([[5.,6],[7,8],[9,10]])\n",
    "# t3 = torch.tensor([[5.,6],[7,8],[9,10]]) This gives an error\n",
    "t3"
   ]
  },
  {
   "cell_type": "code",
   "execution_count": 8,
   "id": "cleared-small",
   "metadata": {},
   "outputs": [
    {
     "data": {
      "text/plain": [
       "tensor([[[11., 12., 13.],\n",
       "         [13., 14., 15.]],\n",
       "\n",
       "        [[15., 16., 17.],\n",
       "         [17., 18., 19.]]])"
      ]
     },
     "execution_count": 8,
     "metadata": {},
     "output_type": "execute_result"
    }
   ],
   "source": [
    "# 3-dimentional array\n",
    "\n",
    "t4 = torch.tensor([\n",
    "    [[11,12,13],\n",
    "     [13,14,15]],\n",
    "    [[15,16,17],\n",
    "     [17,18,19.]]\n",
    "])\n",
    "t4"
   ]
  },
  {
   "cell_type": "code",
   "execution_count": 9,
   "id": "coastal-bridge",
   "metadata": {},
   "outputs": [
    {
     "data": {
      "text/plain": [
       "torch.Size([])"
      ]
     },
     "execution_count": 9,
     "metadata": {},
     "output_type": "execute_result"
    }
   ],
   "source": [
    "t1.shape"
   ]
  },
  {
   "cell_type": "code",
   "execution_count": 10,
   "id": "female-contrary",
   "metadata": {},
   "outputs": [
    {
     "data": {
      "text/plain": [
       "torch.Size([4])"
      ]
     },
     "execution_count": 10,
     "metadata": {},
     "output_type": "execute_result"
    }
   ],
   "source": [
    "t2.shape"
   ]
  },
  {
   "cell_type": "markdown",
   "id": "intense-charger",
   "metadata": {},
   "source": [
    "## Tensor operations and gradients\n",
    "We can combine tensors with the usual arithmetic operations."
   ]
  },
  {
   "cell_type": "code",
   "execution_count": 11,
   "id": "outside-negotiation",
   "metadata": {},
   "outputs": [],
   "source": [
    "# Create tensors.\n",
    "x = torch.tensor(3.)\n",
    "w = torch.tensor(4., requires_grad=True) \n",
    "b = torch.tensor(5.,requires_grad=True)"
   ]
  },
  {
   "cell_type": "markdown",
   "id": "optimum-pepper",
   "metadata": {},
   "source": [
    "The x,w,b are all tensors(which are numbers). w abd b hava an additional parameter requires_grad set to True."
   ]
  },
  {
   "cell_type": "code",
   "execution_count": 12,
   "id": "graduate-brooks",
   "metadata": {},
   "outputs": [
    {
     "data": {
      "text/plain": [
       "tensor(17., grad_fn=<AddBackward0>)"
      ]
     },
     "execution_count": 12,
     "metadata": {},
     "output_type": "execute_result"
    }
   ],
   "source": [
    "# Combining tensors\n",
    "y = w*x+b\n",
    "y"
   ]
  },
  {
   "cell_type": "markdown",
   "id": "electoral-constraint",
   "metadata": {},
   "source": [
    "What makes pytorch special is that we can automatically compute the derivative of y w.r.t the tensors that have requires_grad set to True i.e w and b. To compute the derivatives, we can call the .backward method on our result y."
   ]
  },
  {
   "cell_type": "code",
   "execution_count": 13,
   "id": "certified-isaac",
   "metadata": {},
   "outputs": [],
   "source": [
    "# Compute derivative\n",
    "y.backward()"
   ]
  },
  {
   "cell_type": "markdown",
   "id": "tropical-cooler",
   "metadata": {},
   "source": [
    "The derivatives of y w.r.t the input tensors are stored in the .grad property of the respective tensors."
   ]
  },
  {
   "cell_type": "code",
   "execution_count": 14,
   "id": "incorporate-convention",
   "metadata": {},
   "outputs": [
    {
     "name": "stdout",
     "output_type": "stream",
     "text": [
      "dy/dx None\n",
      "dy/dw tensor(3.)\n",
      "dy/db tensor(1.)\n"
     ]
    }
   ],
   "source": [
    "# Display gradients\n",
    "print('dy/dx', x.grad)\n",
    "print('dy/dw', w.grad)\n",
    "print('dy/db', b.grad)"
   ]
  },
  {
   "cell_type": "markdown",
   "id": "designing-vessel",
   "metadata": {},
   "source": [
    "The \"grad\" in w.grad stands for gradient, which is another term for derivative, used mainly when dealing with matrices.\n",
    "\n",
    "Note: Gradient is used mainly when dealing with matrices and derivative is mainly used when dealing with numbers"
   ]
  },
  {
   "cell_type": "markdown",
   "id": "involved-rating",
   "metadata": {},
   "source": [
    "## Interoperability with Numpy\n",
    "Numpy, Matplotlib, openCV, Pandas"
   ]
  },
  {
   "cell_type": "code",
   "execution_count": 15,
   "id": "brilliant-gibson",
   "metadata": {},
   "outputs": [
    {
     "data": {
      "text/plain": [
       "array([[1., 2.],\n",
       "       [3., 4.]])"
      ]
     },
     "execution_count": 15,
     "metadata": {},
     "output_type": "execute_result"
    }
   ],
   "source": [
    "import numpy as np\n",
    "\n",
    "x = np.array([[1,2],[3,4.]]) # Creating an array in numpy\n",
    "x"
   ]
  },
  {
   "cell_type": "markdown",
   "id": "answering-stocks",
   "metadata": {},
   "source": [
    "We can convert a Numpy array to a Pytorch tensor using torch.from_numpy"
   ]
  },
  {
   "cell_type": "code",
   "execution_count": 16,
   "id": "integrated-dating",
   "metadata": {},
   "outputs": [
    {
     "data": {
      "text/plain": [
       "tensor([[1., 2.],\n",
       "        [3., 4.]], dtype=torch.float64)"
      ]
     },
     "execution_count": 16,
     "metadata": {},
     "output_type": "execute_result"
    }
   ],
   "source": [
    "# Convert th enumpy array to a torch tensor\n",
    "y = torch.from_numpy(x)\n",
    "y\n",
    "\n",
    "\n",
    "# or\n",
    "# y = torch.tensor(x)\n",
    "\n",
    "# The difference is that torch.from_numpy uses the same space and memory while other creates a copy of the daat\n"
   ]
  },
  {
   "cell_type": "code",
   "execution_count": 17,
   "id": "metropolitan-territory",
   "metadata": {},
   "outputs": [
    {
     "data": {
      "text/plain": [
       "(dtype('float64'), torch.float64)"
      ]
     },
     "execution_count": 17,
     "metadata": {},
     "output_type": "execute_result"
    }
   ],
   "source": [
    "x.dtype, y.dtype"
   ]
  },
  {
   "cell_type": "markdown",
   "id": "pacific-alberta",
   "metadata": {},
   "source": [
    "We can convert a PyTorch tensor to a Numpy array using th .numpy method of a tensor."
   ]
  },
  {
   "cell_type": "code",
   "execution_count": 18,
   "id": "special-automation",
   "metadata": {},
   "outputs": [
    {
     "data": {
      "text/plain": [
       "array([[1., 2.],\n",
       "       [3., 4.]])"
      ]
     },
     "execution_count": 18,
     "metadata": {},
     "output_type": "execute_result"
    }
   ],
   "source": [
    "# Convert a torch tensor to a numpy array\n",
    "z = y.numpy()\n",
    "z"
   ]
  },
  {
   "cell_type": "markdown",
   "id": "previous-celebration",
   "metadata": {},
   "source": [
    "The interoperability between PyTorch and Numpy is really important because most datasets you work with will likely be read and processed as Numpy arrays."
   ]
  },
  {
   "cell_type": "markdown",
   "id": "academic-liquid",
   "metadata": {},
   "source": [
    "numpy vs torch\n",
    "\n",
    "for cuda and gpu "
   ]
  }
 ],
 "metadata": {
  "kernelspec": {
   "display_name": "Python 3",
   "language": "python",
   "name": "python3"
  },
  "language_info": {
   "codemirror_mode": {
    "name": "ipython",
    "version": 3
   },
   "file_extension": ".py",
   "mimetype": "text/x-python",
   "name": "python",
   "nbconvert_exporter": "python",
   "pygments_lexer": "ipython3",
   "version": "3.8.5"
  }
 },
 "nbformat": 4,
 "nbformat_minor": 5
}
